{
 "cells": [
  {
   "cell_type": "markdown",
   "metadata": {},
   "source": [
    "Apple and Grapes Concentration\n",
    "\n",
    "In this project, from 35 images of different concentration of apple and grapes juice, we train a machine learning model to predict the concentration of samples that are not in the training_set. 25 samples were used to train the model randomly, and 10 of the samples were separated before begining the training, to be set as test_set."
   ]
  },
  {
   "cell_type": "markdown",
   "metadata": {},
   "source": [
    "1. Get the Average RGB for each sample photo"
   ]
  },
  {
   "cell_type": "code",
   "execution_count": 29,
   "metadata": {},
   "outputs": [],
   "source": [
    "# import necessary modules\n",
    "from PIL import Image\n",
    "import numpy as np\n",
    "import pandas as pd\n",
    "import os # file and directories\n",
    "import matplotlib.pyplot as plt\n",
    "import copy\n",
    "import math\n",
    "\n",
    "import warnings\n",
    "warnings.filterwarnings(\"ignore\", category=DeprecationWarning)\n",
    "\n",
    "%matplotlib inline\n",
    "\n"
   ]
  },
  {
   "cell_type": "markdown",
   "metadata": {},
   "source": [
    "Calculating Average RGB of Each Sample and Store Them in DataFrame"
   ]
  },
  {
   "cell_type": "code",
   "execution_count": 30,
   "metadata": {},
   "outputs": [
    {
     "data": {
      "text/plain": [
       "<bound method NDFrame.head of    Image Name   Average R   Average G  Average B\n",
       "0       1.jpg  108.661646  134.038183  46.804389\n",
       "1      10.jpg   25.931250   19.884031  20.068351\n",
       "2      11.jpg   42.084115   20.194604  20.402166\n",
       "3      12.jpg   26.721579   17.307498  17.922117\n",
       "4      13.jpg   35.599673   20.599031  21.391869\n",
       "5      14.jpg   27.169760   16.565125  16.659064\n",
       "6      15.jpg   43.584316   17.232585  15.166021\n",
       "7      16.jpg   41.562109   22.673778  24.033104\n",
       "8      17.jpg   84.998277   49.148476  25.092389\n",
       "9      18.jpg   39.113469   17.983533  17.341224\n",
       "10     19.jpg   28.582303   20.482339  19.832201\n",
       "11      2.jpg   31.531814   22.586923  22.796008\n",
       "12     20.jpg   37.545362   20.517627  20.749058\n",
       "13     21.jpg   49.859921   24.045765  24.798840\n",
       "14     22.jpg   87.911371   34.844249  20.640904\n",
       "15     23.jpg  108.547283   94.126946  37.706653\n",
       "16     24.jpg   37.424971   20.393974  21.484152\n",
       "17     25.jpg   55.166728   20.063373  18.897941\n",
       "18     26.jpg   42.935855   23.639710  25.569844\n",
       "19     27.jpg   30.832198   15.449701  16.797313\n",
       "20     28.jpg   31.357538   17.670822  18.958073\n",
       "21     29.jpg   41.555351   20.428393  21.796370\n",
       "22      3.jpg   35.583940   17.205275  17.577895\n",
       "23     30.jpg   33.408213   19.175887  20.738208\n",
       "24     31.jpg   33.382900   13.332149  15.379232\n",
       "25     32.jpg   34.039731   17.077892  18.362046\n",
       "26     33.jpg   73.282581   27.219022  19.026964\n",
       "27     34.jpg   59.599194   19.164041  16.998532\n",
       "28     35.jpg   30.781750   18.536822  20.019054\n",
       "29      4.jpg   31.010886   20.151040  20.582730\n",
       "30      5.jpg   54.547920   21.964411  17.603289\n",
       "31      6.jpg   82.542825   53.861065  25.453785\n",
       "32      7.jpg   32.211459   17.153850  17.889717\n",
       "33      8.jpg   28.862768   18.993960  19.556071\n",
       "34      9.jpg   56.737873   24.495721  23.662835>"
      ]
     },
     "execution_count": 30,
     "metadata": {},
     "output_type": "execute_result"
    }
   ],
   "source": [
    "folder_name = r'C:\\Users\\nathan-mekuria\\Desktop\\Project\\DurmusHoca\\AppleGrapesJuice\\ML_model\\Images'\n",
    "\n",
    "data = []\n",
    "\n",
    "for image_name in os.listdir(folder_name):\n",
    "    if image_name.endswith(('jpg')):\n",
    "        image_path = os.path.join(folder_name, image_name)\n",
    "        image = Image.open(image_path)\n",
    "\n",
    "        np_image = np.array(image)\n",
    "        average_rgb = np_image.mean(axis= (0, 1)) # tuble with 3 features\n",
    "        data.append([image_name, *average_rgb]) \n",
    "\n",
    "df = pd.DataFrame(data, columns= ['Image Name', 'Average R', 'Average G', 'Average B'])\n",
    "df.reset_index(drop= True, inplace= True)\n",
    "df.head\n"
   ]
  },
  {
   "cell_type": "markdown",
   "metadata": {},
   "source": [
    "Load the label"
   ]
  },
  {
   "cell_type": "code",
   "execution_count": 31,
   "metadata": {},
   "outputs": [
    {
     "data": {
      "text/plain": [
       "<bound method NDFrame.head of       Actual\n",
       "0   100.0460\n",
       "1     3.4700\n",
       "2    54.9584\n",
       "3    17.8254\n",
       "4    39.4224\n",
       "5    31.2460\n",
       "6    69.8706\n",
       "7    45.4606\n",
       "8    90.0896\n",
       "9    59.3754\n",
       "10   14.8282\n",
       "11    0.0000\n",
       "12   45.1802\n",
       "13   51.1172\n",
       "14   83.9286\n",
       "15   96.8338\n",
       "16   33.6536\n",
       "17   65.2202\n",
       "18   29.3332\n",
       "19   17.9542\n",
       "20    7.4116\n",
       "21   37.6520\n",
       "22   50.1356\n",
       "23   13.2612\n",
       "24   33.0982\n",
       "25   40.5778\n",
       "26   80.5606\n",
       "27   71.7756\n",
       "28    6.0698\n",
       "29   25.0194\n",
       "30   75.0976\n",
       "31   91.9722\n",
       "32   43.5238\n",
       "33   21.3328\n",
       "34   60.2860>"
      ]
     },
     "execution_count": 31,
     "metadata": {},
     "output_type": "execute_result"
    }
   ],
   "source": [
    "label_path = r'C:\\Users\\nathan-mekuria\\Desktop\\Project\\DurmusHoca\\AppleGrapesJuice\\ML_model\\Images\\Label.xlsx'\n",
    "label = pd.read_excel(label_path)\n",
    "label.head"
   ]
  },
  {
   "cell_type": "markdown",
   "metadata": {},
   "source": [
    "Merge Data with Label"
   ]
  },
  {
   "cell_type": "code",
   "execution_count": 32,
   "metadata": {},
   "outputs": [
    {
     "data": {
      "text/plain": [
       "<bound method NDFrame.head of    Image Name   Average R   Average G  Average B    Actual\n",
       "0       1.jpg  108.661646  134.038183  46.804389  100.0460\n",
       "1      10.jpg   25.931250   19.884031  20.068351    3.4700\n",
       "2      11.jpg   42.084115   20.194604  20.402166   54.9584\n",
       "3      12.jpg   26.721579   17.307498  17.922117   17.8254\n",
       "4      13.jpg   35.599673   20.599031  21.391869   39.4224\n",
       "5      14.jpg   27.169760   16.565125  16.659064   31.2460\n",
       "6      15.jpg   43.584316   17.232585  15.166021   69.8706\n",
       "7      16.jpg   41.562109   22.673778  24.033104   45.4606\n",
       "8      17.jpg   84.998277   49.148476  25.092389   90.0896\n",
       "9      18.jpg   39.113469   17.983533  17.341224   59.3754\n",
       "10     19.jpg   28.582303   20.482339  19.832201   14.8282\n",
       "11      2.jpg   31.531814   22.586923  22.796008    0.0000\n",
       "12     20.jpg   37.545362   20.517627  20.749058   45.1802\n",
       "13     21.jpg   49.859921   24.045765  24.798840   51.1172\n",
       "14     22.jpg   87.911371   34.844249  20.640904   83.9286\n",
       "15     23.jpg  108.547283   94.126946  37.706653   96.8338\n",
       "16     24.jpg   37.424971   20.393974  21.484152   33.6536\n",
       "17     25.jpg   55.166728   20.063373  18.897941   65.2202\n",
       "18     26.jpg   42.935855   23.639710  25.569844   29.3332\n",
       "19     27.jpg   30.832198   15.449701  16.797313   17.9542\n",
       "20     28.jpg   31.357538   17.670822  18.958073    7.4116\n",
       "21     29.jpg   41.555351   20.428393  21.796370   37.6520\n",
       "22      3.jpg   35.583940   17.205275  17.577895   50.1356\n",
       "23     30.jpg   33.408213   19.175887  20.738208   13.2612\n",
       "24     31.jpg   33.382900   13.332149  15.379232   33.0982\n",
       "25     32.jpg   34.039731   17.077892  18.362046   40.5778\n",
       "26     33.jpg   73.282581   27.219022  19.026964   80.5606\n",
       "27     34.jpg   59.599194   19.164041  16.998532   71.7756\n",
       "28     35.jpg   30.781750   18.536822  20.019054    6.0698\n",
       "29      4.jpg   31.010886   20.151040  20.582730   25.0194\n",
       "30      5.jpg   54.547920   21.964411  17.603289   75.0976\n",
       "31      6.jpg   82.542825   53.861065  25.453785   91.9722\n",
       "32      7.jpg   32.211459   17.153850  17.889717   43.5238\n",
       "33      8.jpg   28.862768   18.993960  19.556071   21.3328\n",
       "34      9.jpg   56.737873   24.495721  23.662835   60.2860>"
      ]
     },
     "execution_count": 32,
     "metadata": {},
     "output_type": "execute_result"
    }
   ],
   "source": [
    "full_data = pd.concat([df, label], axis= 1)\n",
    "full_data.head"
   ]
  },
  {
   "cell_type": "markdown",
   "metadata": {},
   "source": [
    "Spliting Training Set and Test Set"
   ]
  },
  {
   "cell_type": "code",
   "execution_count": 33,
   "metadata": {},
   "outputs": [
    {
     "name": "stdout",
     "output_type": "stream",
     "text": [
      "[[45.1802]\n",
      " [90.0896]\n",
      " [33.6536]\n",
      " [59.3754]\n",
      " [21.3328]]\n",
      "[[37.5453624  20.51762733 20.74905773]\n",
      " [84.99827663 49.14847624 25.09238928]\n",
      " [37.42497076 20.39397353 21.48415205]\n",
      " [39.11346889 17.98353327 17.34122403]\n",
      " [28.86276786 18.99396046 19.55607143]]\n",
      "Type of train_set:  <class 'pandas.core.frame.DataFrame'>\n",
      "size of train_set (m):  28\n"
     ]
    }
   ],
   "source": [
    "def split_train_test(data, test_ratio):\n",
    "    np.random.seed(42)\n",
    "    shuffled_indices = np.random.permutation(len(data))\n",
    "    test_set_size = int(len(data) * test_ratio)\n",
    "    test_indices = shuffled_indices[ :test_set_size]\n",
    "    train_indices = shuffled_indices[test_set_size: ]\n",
    "    return data.iloc[train_indices], data.iloc[test_indices]\n",
    "\n",
    "# Split the data\n",
    "train_set_data, test_set_data = split_train_test(full_data, 0.2)\n",
    "\n",
    "# Select only numeric features (excluding non-numeric columns)\n",
    "train_set = train_set_data.select_dtypes(include=[np.number]).iloc[:, :-1]  # Excluding the last column (assumed label)\n",
    "train_features = train_set.values\n",
    "\n",
    "# Select numeric labels\n",
    "train_set_label = train_set_data.select_dtypes(include=[np.number]).iloc[:, -1:]\n",
    "train_labels = train_set_label.values.reshape(-1, 1)\n",
    "\n",
    "# Process test set in the same way\n",
    "test_set = test_set_data.select_dtypes(include=[np.number]).iloc[:, :-1]\n",
    "test_set_label = test_set_data.select_dtypes(include=[np.number]).iloc[:, -1:]\n",
    "\n",
    "\n",
    "# modify test_set as well dont forget\n",
    "print(train_labels[:5])\n",
    "print(train_features[:5])\n",
    "print(\"Type of train_set: \", type(train_set))\n",
    "print(\"size of train_set (m): \", len(train_set))"
   ]
  },
  {
   "cell_type": "markdown",
   "metadata": {},
   "source": []
  },
  {
   "cell_type": "markdown",
   "metadata": {},
   "source": [
    "Visualize the Features"
   ]
  },
  {
   "cell_type": "code",
   "execution_count": 34,
   "metadata": {},
   "outputs": [
    {
     "data": {
      "image/png": "[encoded data removed]",
      "text/plain": [
       "<Figure size 640x480 with 1 Axes>"
      ]
     },
     "metadata": {},
     "output_type": "display_data"
    }
   ],
   "source": [
    "# Create a Scatter Plot for All Features and the Label\n",
    "# To create red 'x', we used marker= 'x' and c= 'r'\n",
    "plt.scatter(train_set['Average R'], train_set_label, marker= 'x', c= 'r', label= 'Average R')\n",
    "\n",
    "plt.scatter(train_set['Average G'], train_set_label, marker= 'o', c= 'g', label= 'Average G')\n",
    "\n",
    "plt.scatter(train_set['Average B'], train_set_label, marker= '+', c= 'b', label= 'Average B')\n",
    "\n",
    "plt.title(\"Color Intensity Vs Concentration\")\n",
    "plt.ylabel(\"Concentration\")\n",
    "plt.xlabel(\"Color Intensity\")\n",
    "\n",
    "plt.legend()\n",
    "\n",
    "plt.show()"
   ]
  },
  {
   "cell_type": "markdown",
   "metadata": {},
   "source": [
    "Compute Cost Func to Calculate the Total Cost of Using Parameters w and b"
   ]
  },
  {
   "cell_type": "code",
   "execution_count": 35,
   "metadata": {},
   "outputs": [],
   "source": [
    "def compute_cost(X, y, w, b, *argv):\n",
    "    \"\"\"\n",
    "    Compute cost func for linear regression\n",
    "\n",
    "    Args:\n",
    "        X (ndarray) : shape(m, n) Input to the model\n",
    "        y (ndarray) : shape(m, 1) Label\n",
    "        w (vector) : shape(1, n) Parameter\n",
    "        b (scalar) : Parameter\n",
    "\n",
    "    Returns:\n",
    "        total_cost (float) : the cost of using the parameter w, and b\n",
    "    \"\"\"\n",
    "\n",
    "    X = np.array(X)\n",
    "    y = np.array(y)\n",
    " #  w = np.array(w).reshape((w.shape[0], 1))  # Ensure w is a column vector\n",
    "\n",
    "    m, n = X.shape\n",
    "    total_cost = 0\n",
    "\n",
    "    f_wb = np.dot(X, w) + b\n",
    "    cost = (f_wb - y) ** 2\n",
    "\n",
    "    total_cost =  np.sum(cost) / (2 * m)\n",
    "\n",
    "    return total_cost\n",
    "    \n"
   ]
  },
  {
   "cell_type": "markdown",
   "metadata": {},
   "source": [
    "Check the Function Using the Training Set"
   ]
  },
  {
   "cell_type": "code",
   "execution_count": 36,
   "metadata": {},
   "outputs": [],
   "source": [
    "%%capture\n",
    "m, n = train_set.shape\n",
    "print(\"m: \", m, \" n: \", n)\n",
    "\n",
    "w_init = np.zeros(n).reshape(n)\n",
    "b_init = 0\n",
    "print(w_init)\n",
    "cost = compute_cost(train_set, train_set_label, w_init, b_init)\n",
    "print(\"Total Cost:\", cost)"
   ]
  },
  {
   "cell_type": "markdown",
   "metadata": {},
   "source": [
    "Gradient Function"
   ]
  },
  {
   "cell_type": "code",
   "execution_count": 37,
   "metadata": {},
   "outputs": [],
   "source": [
    "def compute_gradient(X, y, w, b):\n",
    "    \"\"\"\n",
    "    Compute gradient of linear regression\n",
    "\n",
    "    Args:\n",
    "        X (ndarray (m,n)) : Data input\n",
    "        y (ndarray (m, )) : Label\n",
    "        w (vector (, n)) : vector parameter\n",
    "        b (scalar) : parameter\n",
    "\n",
    "    Returns:\n",
    "        dj_dw (vector ( ,n))\n",
    "        dj_db (scalar)\n",
    "    \"\"\"\n",
    "\n",
    "    m, n = X.shape\n",
    "\n",
    "    dj_dw = np.zeros((n, ))\n",
    "    dj_db = 0.\n",
    "\n",
    "    for i in range(m): # iterate through the example\n",
    "        err = (np.dot(X[i], w) + b) - y[i]\n",
    "\n",
    "        for j in range(n):\n",
    "            dj_dw[j] += err * X[i, j] # derivative\n",
    "\n",
    "        dj_db += err\n",
    "\n",
    "    return dj_dw, dj_db"
   ]
  },
  {
   "cell_type": "code",
   "execution_count": 38,
   "metadata": {},
   "outputs": [],
   "source": [
    "%%capture\n",
    "tmp_dj_dw, tmp_dj_db = compute_gradient(train_features, train_labels, w_init, b_init)\n",
    "\n",
    "print(f'dj_db at initial b: {tmp_dj_db}')\n",
    "print(f'dj_dw at initial w \\n {tmp_dj_dw}')"
   ]
  },
  {
   "cell_type": "markdown",
   "metadata": {},
   "source": [
    "Implementation of Gradiend Descent Function"
   ]
  },
  {
   "cell_type": "code",
   "execution_count": 39,
   "metadata": {},
   "outputs": [],
   "source": [
    "def gradient_descent(X, y, w_in, b_in, cost_function, gradient_function, alpha, num_of_iter):\n",
    "    \"\"\"\n",
    "    Compute gredient descent algorithm\n",
    "\n",
    "    Args:\n",
    "        X (ndarray (m, n)) : Data input\n",
    "        y (ndarray (m, )) : label\n",
    "        w_in (ndarray (n, )) : Vector parameter\n",
    "        b_in (scalar) : Parameter\n",
    "        cost_function : function to calculate cost\n",
    "        gradient_function : function to calculate gradient\n",
    "        alpha (float) : learning rate\n",
    "        num_of_iter (int) : number of iteration\n",
    "\n",
    "    Returns:\n",
    "        w (ndarray (n, )) : modified w\n",
    "        b (scalar) : modified b\n",
    "    \"\"\"\n",
    "\n",
    "    J_history = []\n",
    "    w = copy.deepcopy(w_in) # avoid altering global w\n",
    "    b = b_in\n",
    "\n",
    "    for i in range(num_of_iter):\n",
    "        dj_dw, dj_db = gradient_function(X, y, w, b)\n",
    "\n",
    "        w = w - alpha * dj_dw\n",
    "        b = b - alpha * dj_db\n",
    "        \n",
    "        if i < 10000:\n",
    "            J_history.append(cost_function(X, y, w, b))\n",
    "\n",
    "        if i % math.ceil(num_of_iter / 10) == 0:\n",
    "            print(f'{i:4d}\\'th iteration cost: {J_history[-1]:8.2f}')\n",
    "\n",
    "    return w, b, J_history # J_history for graphing\n",
    "\n",
    "    "
   ]
  },
  {
   "cell_type": "markdown",
   "metadata": {},
   "source": [
    "Using the Function to Predict the Concentration of the Training Set"
   ]
  },
  {
   "cell_type": "code",
   "execution_count": 40,
   "metadata": {},
   "outputs": [],
   "source": [
    "%%capture\n",
    "initial_w = np.zeros_like(w_init)\n",
    "initial_b = 0.\n",
    "\n",
    "alpha = 1e-8\n",
    "iterations = 100000\n",
    "\n",
    "w_final, b_final, j_history = gradient_descent(train_features, train_labels, initial_w, initial_b, compute_cost, compute_gradient, alpha, iterations)\n",
    "\n",
    "print(w_init)\n",
    "m, _ = train_features.shape\n",
    "\n",
    "for i in range(m):\n",
    "    prediction = float(np.dot(train_features[i], w_final) + b_final)\n",
    "    actual = train_labels[i]\n",
    "    print(\"Predicted: \", prediction, \"      Actual: \", actual)"
   ]
  },
  {
   "cell_type": "code",
   "execution_count": 45,
   "metadata": {},
   "outputs": [
    {
     "data": {
      "image/png": "[encoded data removed]",
      "text/plain": [
       "<Figure size 1200x400 with 2 Axes>"
      ]
     },
     "metadata": {},
     "output_type": "display_data"
    }
   ],
   "source": [
    "# plot cost versus iteration\n",
    "import warnings\n",
    "warnings.filterwarnings(\"ignore\", category=DeprecationWarning)\n",
    "\n",
    "fig, (ax1, ax2) = plt.subplots(1, 2, constrained_layout= True, figsize= (12, 4))\n",
    "ax1.plot(j_history)\n",
    "ax2.plot(100 + np.arange(len(j_history[100:])), j_history[100:])\n",
    "\n",
    "ax1.set_title(\"Cost Vs Iteration\"); ax2.set_title(\"Cost vs Iteration (tail)\")\n",
    "ax1.set_ylabel(\"Cost\"); ax2.set_ylabel(\"Cost\")\n",
    "ax1.set_xlabel(\"Iteration\"); ax2.set_xlabel(\"Iteration\")\n",
    "plt.show()"
   ]
  },
  {
   "cell_type": "code",
   "execution_count": null,
   "metadata": {},
   "outputs": [],
   "source": []
  }
 ],
 "metadata": {
  "kernelspec": {
   "display_name": "Python 3",
   "language": "python",
   "name": "python3"
  },
  "language_info": {
   "codemirror_mode": {
    "name": "ipython",
    "version": 3
   },
   "file_extension": ".py",
   "mimetype": "text/x-python",
   "name": "python",
   "nbconvert_exporter": "python",
   "pygments_lexer": "ipython3",
   "version": "3.11.9"
  }
 },
 "nbformat": 4,
 "nbformat_minor": 2
}
